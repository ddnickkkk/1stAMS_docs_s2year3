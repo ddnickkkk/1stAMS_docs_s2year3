{
 "cells": [
  {
   "attachments": {},
   "cell_type": "markdown",
   "metadata": {},
   "source": [
    "**<h1 align='middle'><font color = 'red'>Matrix Decomposition</font></h1>**\n",
    "Matrix decomposition is a technique for reducing a matrix into a product of simpler matrices. This can be useful for a variety of reasons, such as:\n",
    "\n",
    "- Simplifying matrix operations: Many matrix operations are much easier to perform on decomposed matrices. For example, the determinant of a matrix can be computed very quickly if the matrix is in its LU decomposition form.\n",
    "- Reducing the size of a matrix: Decomposing a matrix can sometimes reduce its size, which can make it faster to store and manipulate. For example, the SVD of a matrix can be used to reduce its size by a factor of two.\n",
    "- Uncovering hidden structure: Matrix decomposition can sometimes reveal hidden structure in a matrix. For example, the eigenvectors of a matrix can be used to find the directions in which the matrix stretches or compresses data.\n",
    "\n",
    "There are many different types of matrix decompositions, each of which has its own advantages and disadvantages. Some of the most common types of matrix decompositions include:\n",
    "\n",
    "- **LU decomposition**: This decomposition breaks a matrix down into a product of a lower triangular matrix and an upper triangular matrix. LU decomposition is very useful for solving linear systems of equations and for computing the determinant of a matrix.\n",
    "- **QR decomposition**\n",
    "- **Eigendecomposition**\n",
    "- **SVD(Singular Value Decomposition)**: This decomposition breaks a matrix down into a product of a three matrices: a left singular matrix, a diagonal matrix of singular values, and a right singular matrix. SVD is very useful for data compression and for finding hidden structure in data.\n",
    "- **Cholesky decomposition**: This decomposition is only applicable to positive-definite matrices. It breaks a matrix down into a product of a lower triangular matrix and its transpose. Cholesky decomposition is very useful for solving linear systems of equations and for computing the determinant of a matrix.\n",
    "- **Schur decomposition**: This decomposition is only applicable to normal matrices. It breaks a matrix down into a product of a unitary matrix and a triangular matrix. Schur decomposition is very useful for finding eigenvalues and eigenvectors of a matrix."
   ]
  },
  {
   "attachments": {},
   "cell_type": "markdown",
   "metadata": {},
   "source": [
    "# **<font color = 'red'>LU Decomposition</font>**\n",
    "LU decomposition, also known as lower-upper decomposition, is a matrix factorization method that decomposes a matrix into a product of a lower triangular matrix and an upper triangular matrix. The LU decomposition can be used to solve systems of linear equations, compute the determinant of a matrix, and invert a matrix.\n",
    "\n",
    "A = LU\n",
    "\n",
    "- **P**: a permutation matrix is a square binary matrix that has exactly one entry of 1 in each row and each column and 0s elsewhere\n",
    "- **L**: A lower triangular matrix is a square matrix in which all the entries above the main diagonal are zero  \n",
    "-> all elements are valued at lower side\n",
    "- **U**: An upper triangular matrix is a square matrix in which all the entries below the main diagonal are zero  \n",
    "-> all elements are valued at upper side\n",
    "\n",
    "The product of P, L, U matrix is equal to original matrix A."
   ]
  },
  {
   "cell_type": "code",
   "execution_count": 1,
   "metadata": {},
   "outputs": [],
   "source": [
    "from numpy import array\n",
    "from scipy.linalg import lu"
   ]
  },
  {
   "cell_type": "code",
   "execution_count": 2,
   "metadata": {},
   "outputs": [
    {
     "data": {
      "text/plain": [
       "array([[1, 2, 3],\n",
       "       [4, 5, 6],\n",
       "       [7, 8, 9]])"
      ]
     },
     "execution_count": 2,
     "metadata": {},
     "output_type": "execute_result"
    }
   ],
   "source": [
    "A = array([[1,2,3], [4,5,6], [7,8,9]])\n",
    "A"
   ]
  },
  {
   "cell_type": "code",
   "execution_count": 3,
   "metadata": {},
   "outputs": [],
   "source": [
    "P, L, U = lu(A)"
   ]
  },
  {
   "cell_type": "code",
   "execution_count": 4,
   "metadata": {},
   "outputs": [
    {
     "data": {
      "text/plain": [
       "array([[0., 1., 0.],\n",
       "       [0., 0., 1.],\n",
       "       [1., 0., 0.]])"
      ]
     },
     "execution_count": 4,
     "metadata": {},
     "output_type": "execute_result"
    }
   ],
   "source": [
    "P"
   ]
  },
  {
   "cell_type": "code",
   "execution_count": 5,
   "metadata": {},
   "outputs": [
    {
     "data": {
      "text/plain": [
       "array([[1.        , 0.        , 0.        ],\n",
       "       [0.14285714, 1.        , 0.        ],\n",
       "       [0.57142857, 0.5       , 1.        ]])"
      ]
     },
     "execution_count": 5,
     "metadata": {},
     "output_type": "execute_result"
    }
   ],
   "source": [
    "L"
   ]
  },
  {
   "cell_type": "code",
   "execution_count": 6,
   "metadata": {},
   "outputs": [
    {
     "data": {
      "text/plain": [
       "array([[7.        , 8.        , 9.        ],\n",
       "       [0.        , 0.85714286, 1.71428571],\n",
       "       [0.        , 0.        , 0.        ]])"
      ]
     },
     "execution_count": 6,
     "metadata": {},
     "output_type": "execute_result"
    }
   ],
   "source": [
    "U"
   ]
  },
  {
   "cell_type": "code",
   "execution_count": 7,
   "metadata": {},
   "outputs": [
    {
     "data": {
      "text/plain": [
       "array([[1., 2., 3.],\n",
       "       [4., 5., 6.],\n",
       "       [7., 8., 9.]])"
      ]
     },
     "execution_count": 7,
     "metadata": {},
     "output_type": "execute_result"
    }
   ],
   "source": [
    "B = P.dot(L).dot(U)\n",
    "B"
   ]
  },
  {
   "attachments": {},
   "cell_type": "markdown",
   "metadata": {},
   "source": [
    "$\\text{We can see that matrix B = P.L.U has the same result of the original matrix.}$"
   ]
  },
  {
   "attachments": {},
   "cell_type": "markdown",
   "metadata": {},
   "source": [
    "# **<font color = 'red'>QR Decomposition</font>**\n",
    "The QR decomposition is for 𝑚 × 𝑛 matrices (not limited to square\n",
    "matrices) and decomposes a matrix into 𝑄 and 𝑅 components.\n",
    "\n",
    "𝐴 = 𝑄.𝑅\n",
    "\n",
    "It is also known as a QR factorization or QU factorization, is a decomposition of a matrix A into a product A = QR of **an orthonormal matrix(Q)** and **an upper triangular matrix(R)**.\n",
    "\n",
    "- An orthonormal matrix is a matrix whose columns and rows are orthonormal vectors. Orthonormal vectors are vectors that are perpendicular to each other and have a length of 1.\n",
    "- An upper triangular matrix is a matrix in which all the elements below the main diagonal are zero."
   ]
  },
  {
   "cell_type": "code",
   "execution_count": 1,
   "metadata": {},
   "outputs": [],
   "source": [
    "from numpy import array\n",
    "from numpy.linalg import qr"
   ]
  },
  {
   "cell_type": "code",
   "execution_count": 3,
   "metadata": {},
   "outputs": [
    {
     "data": {
      "text/plain": [
       "array([[1, 2],\n",
       "       [3, 4],\n",
       "       [5, 6]])"
      ]
     },
     "execution_count": 3,
     "metadata": {},
     "output_type": "execute_result"
    }
   ],
   "source": [
    "A = array([[1,2],\n",
    "          [3,4], \n",
    "          [5,6]])\n",
    "A"
   ]
  },
  {
   "cell_type": "code",
   "execution_count": 4,
   "metadata": {},
   "outputs": [],
   "source": [
    "Q, R = qr(A, 'complete')"
   ]
  },
  {
   "cell_type": "code",
   "execution_count": 6,
   "metadata": {},
   "outputs": [
    {
     "data": {
      "text/plain": [
       "array([[-0.16903085,  0.89708523,  0.40824829],\n",
       "       [-0.50709255,  0.27602622, -0.81649658],\n",
       "       [-0.84515425, -0.34503278,  0.40824829]])"
      ]
     },
     "execution_count": 6,
     "metadata": {},
     "output_type": "execute_result"
    }
   ],
   "source": [
    "Q"
   ]
  },
  {
   "cell_type": "code",
   "execution_count": 7,
   "metadata": {},
   "outputs": [
    {
     "data": {
      "text/plain": [
       "array([[-5.91607978, -7.43735744],\n",
       "       [ 0.        ,  0.82807867],\n",
       "       [ 0.        ,  0.        ]])"
      ]
     },
     "execution_count": 7,
     "metadata": {},
     "output_type": "execute_result"
    }
   ],
   "source": [
    "R"
   ]
  },
  {
   "cell_type": "code",
   "execution_count": 8,
   "metadata": {},
   "outputs": [
    {
     "data": {
      "text/plain": [
       "array([[1., 2.],\n",
       "       [3., 4.],\n",
       "       [5., 6.]])"
      ]
     },
     "execution_count": 8,
     "metadata": {},
     "output_type": "execute_result"
    }
   ],
   "source": [
    "B = Q.dot(R)\n",
    "B"
   ]
  },
  {
   "attachments": {},
   "cell_type": "markdown",
   "metadata": {},
   "source": [
    "# **<font color = 'red'>Eigendecomposition</font>**\n",
    "In linear algebra, eigendecomposition, also known as spectral decomposition, is a factorization of a matrix into a canonical form, whereby the matrix is represented in terms of its eigenvalues and eigenvectors. Only diagonalizable matrices can be factorized in this way.\n",
    "\n",
    "A = U.D.V^T\n",
    "\n",
    "- U is an orthonormal matrix whose columns are the eigenvectors of A\n",
    "- D is a diagonal matrix whose diagonal elements are the eigenvalues of A\n",
    "- V^T is the transpose of U"
   ]
  },
  {
   "cell_type": "code",
   "execution_count": 9,
   "metadata": {},
   "outputs": [],
   "source": [
    "import numpy as np"
   ]
  },
  {
   "cell_type": "code",
   "execution_count": 12,
   "metadata": {},
   "outputs": [
    {
     "data": {
      "text/plain": [
       "(array([ 1.61168440e+01, -1.11684397e+00, -9.75918483e-16]),\n",
       " array([[-0.23197069, -0.78583024,  0.40824829],\n",
       "        [-0.52532209, -0.08675134, -0.81649658],\n",
       "        [-0.8186735 ,  0.61232756,  0.40824829]]))"
      ]
     },
     "execution_count": 12,
     "metadata": {},
     "output_type": "execute_result"
    }
   ],
   "source": [
    "def eigendecomposition(A):\n",
    "  \"\"\"\n",
    "  Calculates the eigendecomposition of a matrix.\n",
    "\n",
    "  Args:\n",
    "    A: The matrix to decompose.\n",
    "\n",
    "  Returns:\n",
    "    A tuple of the eigenvalues and eigenvectors of A.\n",
    "  \"\"\"\n",
    "\n",
    "  # Check if A is square.\n",
    "  if A.shape[0] != A.shape[1]:\n",
    "    raise ValueError(\"A must be a square matrix.\")\n",
    "\n",
    "  # Calculate the eigenvalues and eigenvectors of A.\n",
    "  eigenvalues, eigenvectors = np.linalg.eig(A)\n",
    "\n",
    "  # Return the eigenvalues and eigenvectors.\n",
    "  return eigenvalues, eigenvectors\n",
    "A = array([[1,2,3], \n",
    "           [4,5,6], \n",
    "           [7,8,9]])\n",
    "eigendecomposition(A)"
   ]
  },
  {
   "attachments": {},
   "cell_type": "markdown",
   "metadata": {},
   "source": [
    "# **<font color = 'red'>SVD(Singular Value Decomposition)</font>**\n",
    "\n",
    "In linear algebra, singular value decomposition (SVD) is a factorization of a real or complex square matrix into three matrices: a product of a left singular matrix, a diagonal matrix of singular values, and a right singular matrix. The SVD of an m×n real or complex matrix A is expressed as\n",
    "\n",
    "$$ A = U \\Sigma V^T $$\n",
    "\n",
    "where:\n",
    "\n",
    "- U is an m×m real or complex orthogonal matrix (unitary matrix)\n",
    "- Σ is an m×n diagonal matrix whose diagonal elements are the singular values of A, arranged in descending order of magnitude\n",
    "- V is an n×n real or complex orthogonal matrix (unitary matrix)"
   ]
  },
  {
   "cell_type": "code",
   "execution_count": 19,
   "metadata": {},
   "outputs": [
    {
     "data": {
      "text/plain": [
       "(array([[-0.21483724,  0.88723069,  0.40824829],\n",
       "        [-0.52058739,  0.24964395, -0.81649658],\n",
       "        [-0.82633754, -0.38794278,  0.40824829]]),\n",
       " array([1.68481034e+01, 1.06836951e+00, 3.33475287e-16]),\n",
       " array([[-0.47967118, -0.57236779, -0.66506441],\n",
       "        [-0.77669099, -0.07568647,  0.62531805],\n",
       "        [-0.40824829,  0.81649658, -0.40824829]]))"
      ]
     },
     "execution_count": 19,
     "metadata": {},
     "output_type": "execute_result"
    }
   ],
   "source": [
    "def svd(A):\n",
    "  \"\"\"\n",
    "  Calculates the singular value decomposition of a matrix.\n",
    "\n",
    "  Args:\n",
    "    A: The matrix to decompose.\n",
    "\n",
    "  Returns:\n",
    "    A tuple of the left singular matrix, the diagonal matrix of singular values, and the right singular matrix.\n",
    "  \"\"\"\n",
    "\n",
    "  # Check if A is square.\n",
    "  if A.shape[0] != A.shape[1]:\n",
    "    raise ValueError(\"A must be a square matrix.\")\n",
    "\n",
    "  # Calculate the SVD of A.\n",
    "  U, s, Vh = np.linalg.svd(A)\n",
    "\n",
    "  # Return the SVD of A.\n",
    "  return U, s, Vh\n",
    "A = array([[1,2,3], \n",
    "           [4,5,6], \n",
    "           [7,8,9]])\n",
    "svd(A)"
   ]
  },
  {
   "attachments": {},
   "cell_type": "markdown",
   "metadata": {},
   "source": [
    "# **<font color = 'red'>Cholesky Decomposition</font>**\n",
    "The Cholesky decomposition is for square symmetric matrices\n",
    "where all values are greater than zero, so-called positive definite matrices.\n",
    "\n",
    "𝐴 = 𝐿.𝐿^T\n",
    "\n",
    "Where 𝐴 is the matrix being decomposed, 𝐿 is the lower triangular\n",
    "matrix and 𝐿^T is the transpose of 𝐿."
   ]
  },
  {
   "cell_type": "code",
   "execution_count": 13,
   "metadata": {},
   "outputs": [],
   "source": [
    "from numpy import array\n",
    "from numpy.linalg import cholesky"
   ]
  },
  {
   "cell_type": "code",
   "execution_count": 16,
   "metadata": {},
   "outputs": [
    {
     "data": {
      "text/plain": [
       "array([[2, 1, 1],\n",
       "       [1, 2, 1],\n",
       "       [1, 1, 2]])"
      ]
     },
     "execution_count": 16,
     "metadata": {},
     "output_type": "execute_result"
    }
   ],
   "source": [
    "A = array([[2,1,1], \n",
    "           [1,2,1], \n",
    "           [1,1,2]])\n",
    "A"
   ]
  },
  {
   "cell_type": "code",
   "execution_count": 17,
   "metadata": {},
   "outputs": [
    {
     "data": {
      "text/plain": [
       "array([[1.41421356, 0.        , 0.        ],\n",
       "       [0.70710678, 1.22474487, 0.        ],\n",
       "       [0.70710678, 0.40824829, 1.15470054]])"
      ]
     },
     "execution_count": 17,
     "metadata": {},
     "output_type": "execute_result"
    }
   ],
   "source": [
    "L = cholesky(A)\n",
    "L"
   ]
  },
  {
   "cell_type": "code",
   "execution_count": 18,
   "metadata": {},
   "outputs": [
    {
     "data": {
      "text/plain": [
       "array([[2., 1., 1.],\n",
       "       [1., 2., 1.],\n",
       "       [1., 1., 2.]])"
      ]
     },
     "execution_count": 18,
     "metadata": {},
     "output_type": "execute_result"
    }
   ],
   "source": [
    "B = L.dot(L.T)\n",
    "B"
   ]
  }
 ],
 "metadata": {
  "kernelspec": {
   "display_name": "Python 3",
   "language": "python",
   "name": "python3"
  },
  "language_info": {
   "codemirror_mode": {
    "name": "ipython",
    "version": 3
   },
   "file_extension": ".py",
   "mimetype": "text/x-python",
   "name": "python",
   "nbconvert_exporter": "python",
   "pygments_lexer": "ipython3",
   "version": "3.10.8"
  },
  "orig_nbformat": 4
 },
 "nbformat": 4,
 "nbformat_minor": 2
}
