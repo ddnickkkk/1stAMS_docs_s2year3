{
 "cells": [
  {
   "attachments": {},
   "cell_type": "markdown",
   "metadata": {},
   "source": [
    "**<h1 align='middle'><font color = 'red'>Matrix Decomposition</font></h1>**\n",
    "<h1 align='middle'><font color = 'blue'>Name: Nang Sreynich</font></h1>\n",
    "<h1 align='middle'><font color = 'blue'>ID: e20200447</font></h1>\n",
    "<h1 align='middle'><font color = 'blue'>Group: I3_AMS_B</font></h1>"
   ]
  },
  {
   "attachments": {},
   "cell_type": "markdown",
   "metadata": {},
   "source": [
    "$\\text{1. Find the SVD of the following matrix:}$ $$A = \\begin{bmatrix} 3&2&2 \\\\ 2&3&-2 \\end{bmatrix}$$\n",
    "$$B = \\begin{bmatrix} 2&2 \\\\ -1&1 \\end{bmatrix}$$"
   ]
  },
  {
   "cell_type": "code",
   "execution_count": 18,
   "metadata": {},
   "outputs": [],
   "source": [
    "import numpy as np\n",
    "from scipy.linalg import svd\n",
    "import numpy.linalg as la\n",
    "import torch"
   ]
  },
  {
   "cell_type": "code",
   "execution_count": 2,
   "metadata": {},
   "outputs": [
    {
     "data": {
      "text/plain": [
       "array([[ 3,  2,  2],\n",
       "       [ 2,  3, -2]])"
      ]
     },
     "execution_count": 2,
     "metadata": {},
     "output_type": "execute_result"
    }
   ],
   "source": [
    "A = np.array([[3, 2, 2], [2, 3, -2]])\n",
    "A"
   ]
  },
  {
   "cell_type": "code",
   "execution_count": 3,
   "metadata": {},
   "outputs": [],
   "source": [
    "U, s, Vt = np.linalg.svd(A)"
   ]
  },
  {
   "cell_type": "code",
   "execution_count": 4,
   "metadata": {},
   "outputs": [
    {
     "data": {
      "text/plain": [
       "array([[-0.70710678, -0.70710678],\n",
       "       [-0.70710678,  0.70710678]])"
      ]
     },
     "execution_count": 4,
     "metadata": {},
     "output_type": "execute_result"
    }
   ],
   "source": [
    "U"
   ]
  },
  {
   "cell_type": "code",
   "execution_count": 5,
   "metadata": {},
   "outputs": [
    {
     "data": {
      "text/plain": [
       "array([5., 3.])"
      ]
     },
     "execution_count": 5,
     "metadata": {},
     "output_type": "execute_result"
    }
   ],
   "source": [
    "s"
   ]
  },
  {
   "cell_type": "code",
   "execution_count": 6,
   "metadata": {},
   "outputs": [
    {
     "data": {
      "text/plain": [
       "array([[-7.07106781e-01, -7.07106781e-01, -6.47932334e-17],\n",
       "       [-2.35702260e-01,  2.35702260e-01, -9.42809042e-01],\n",
       "       [-6.66666667e-01,  6.66666667e-01,  3.33333333e-01]])"
      ]
     },
     "execution_count": 6,
     "metadata": {},
     "output_type": "execute_result"
    }
   ],
   "source": [
    "Vt"
   ]
  },
  {
   "cell_type": "code",
   "execution_count": 7,
   "metadata": {},
   "outputs": [
    {
     "data": {
      "text/plain": [
       "array([[ 3,  2,  2],\n",
       "       [ 2,  3, -2]])"
      ]
     },
     "execution_count": 7,
     "metadata": {},
     "output_type": "execute_result"
    }
   ],
   "source": [
    "B = np.array([[3, 2, 2], [2, 3, -2]])\n",
    "B"
   ]
  },
  {
   "cell_type": "code",
   "execution_count": 8,
   "metadata": {},
   "outputs": [],
   "source": [
    "U, s, Vt = np.linalg.svd(A)"
   ]
  },
  {
   "cell_type": "code",
   "execution_count": 9,
   "metadata": {},
   "outputs": [
    {
     "data": {
      "text/plain": [
       "array([[-0.70710678, -0.70710678],\n",
       "       [-0.70710678,  0.70710678]])"
      ]
     },
     "execution_count": 9,
     "metadata": {},
     "output_type": "execute_result"
    }
   ],
   "source": [
    "U"
   ]
  },
  {
   "cell_type": "code",
   "execution_count": 10,
   "metadata": {},
   "outputs": [
    {
     "data": {
      "text/plain": [
       "array([5., 3.])"
      ]
     },
     "execution_count": 10,
     "metadata": {},
     "output_type": "execute_result"
    }
   ],
   "source": [
    "s"
   ]
  },
  {
   "cell_type": "code",
   "execution_count": 11,
   "metadata": {},
   "outputs": [
    {
     "data": {
      "text/plain": [
       "array([[-7.07106781e-01, -7.07106781e-01, -6.47932334e-17],\n",
       "       [-2.35702260e-01,  2.35702260e-01, -9.42809042e-01],\n",
       "       [-6.66666667e-01,  6.66666667e-01,  3.33333333e-01]])"
      ]
     },
     "execution_count": 11,
     "metadata": {},
     "output_type": "execute_result"
    }
   ],
   "source": [
    "Vt"
   ]
  },
  {
   "attachments": {},
   "cell_type": "markdown",
   "metadata": {},
   "source": [
    "$\\text{2. Using the matrix}$ $$P = \\begin{bmatrix} 25&2&-5 \\\\ 3&-2&1 \\\\5&7&4 \\end{bmatrix}$$ \n",
    "$\\text{from the proceeding PyTorch exercises, demonstrate that these three SVD-eigendecomposition equations are true}$"
   ]
  },
  {
   "cell_type": "code",
   "execution_count": 12,
   "metadata": {},
   "outputs": [
    {
     "data": {
      "text/plain": [
       "array([[25,  2, -5],\n",
       "       [ 3, -2,  1],\n",
       "       [ 5,  7,  4]])"
      ]
     },
     "execution_count": 12,
     "metadata": {},
     "output_type": "execute_result"
    }
   ],
   "source": [
    "P = np.array([[25, 2, -5], [3, -2, 1], [5, 7, 4]])\n",
    "P"
   ]
  },
  {
   "cell_type": "code",
   "execution_count": 13,
   "metadata": {},
   "outputs": [],
   "source": [
    "U, S, V = svd(P)"
   ]
  },
  {
   "cell_type": "code",
   "execution_count": 14,
   "metadata": {},
   "outputs": [
    {
     "data": {
      "text/plain": [
       "array([[-0.97571953,  0.18227289,  0.1214413 ],\n",
       "       [-0.09750433,  0.1350092 , -0.9860352 ],\n",
       "       [-0.19612318, -0.97393486, -0.11395871]])"
      ]
     },
     "execution_count": 14,
     "metadata": {},
     "output_type": "execute_result"
    }
   ],
   "source": [
    "U"
   ]
  },
  {
   "cell_type": "code",
   "execution_count": 15,
   "metadata": {},
   "outputs": [
    {
     "data": {
      "text/plain": [
       "array([26.16323489,  8.1875465 ,  2.53953194])"
      ]
     },
     "execution_count": 15,
     "metadata": {},
     "output_type": "execute_result"
    }
   ],
   "source": [
    "S"
   ]
  },
  {
   "cell_type": "code",
   "execution_count": 16,
   "metadata": {},
   "outputs": [
    {
     "data": {
      "text/plain": [
       "array([[-0.98099938, -0.11960649,  0.15275636],\n",
       "       [ 0.01125803, -0.82112714, -0.57063428],\n",
       "       [-0.19368396,  0.55807214, -0.80687174]])"
      ]
     },
     "execution_count": 16,
     "metadata": {},
     "output_type": "execute_result"
    }
   ],
   "source": [
    "V"
   ]
  },
  {
   "cell_type": "code",
   "execution_count": 17,
   "metadata": {},
   "outputs": [
    {
     "data": {
      "text/plain": [
       "array([[26.16323489,  0.        ,  0.        ],\n",
       "       [ 0.        ,  8.1875465 ,  0.        ],\n",
       "       [ 0.        ,  0.        ,  2.53953194]])"
      ]
     },
     "execution_count": 17,
     "metadata": {},
     "output_type": "execute_result"
    }
   ],
   "source": [
    "Sigma = np.diag(S)\n",
    "Sigma"
   ]
  },
  {
   "attachments": {},
   "cell_type": "markdown",
   "metadata": {},
   "source": [
    "$\\text{3. Use the torch.svd() method to calculate the pseudoinverse of Ap, confirming that your results matches the output of torch.pinverse(Ap)}$ "
   ]
  },
  {
   "cell_type": "code",
   "execution_count": 19,
   "metadata": {},
   "outputs": [
    {
     "name": "stdout",
     "output_type": "stream",
     "text": [
      "\n",
      "The result of the pseudoinverse of Ap using torch.svd() \n",
      "tensor([[ 0.0083,  0.0047],\n",
      "        [ 0.0180, -0.0322],\n",
      "        [ 0.0078, -0.0168]])\n",
      "\n",
      "The result of the pseudoinverse of Ap using torch.pinverse() \n",
      "tensor([[ 0.0083,  0.0047],\n",
      "        [ 0.0180, -0.0322],\n",
      "        [ 0.0078, -0.0168]])\n",
      "\n",
      "Compare the result is True\n"
     ]
    }
   ],
   "source": [
    "A = torch.tensor([[3.0, 2.0, 2.0], [2.0, 3.0, -2.0]])\n",
    "P = torch.tensor([[25.0, 2.0, -5.0], [3.0, -2.0, 1.0], [5.0, 7.0, 4.0]])\n",
    "\n",
    "# Compute the product Ap\n",
    "Ap = torch.matmul(A, P)\n",
    "\n",
    "# Calculate the pseudoinverse of Ap using torch.svd()\n",
    "U, S, V = torch.svd(Ap)\n",
    "\n",
    "pseudoinv_svd = torch.matmul(V, torch.matmul(torch.diag(S.reciprocal()), U.t()))\n",
    "print(f'\\nThe result of the pseudoinverse of Ap using torch.svd() \\n{pseudoinv_svd}')\n",
    "\n",
    "# Calculate the pseudoinverse of Ap using torch.pinverse()\n",
    "pseudoinv_pinv = torch.pinverse(Ap)\n",
    "print(f'\\nThe result of the pseudoinverse of Ap using torch.pinverse() \\n{pseudoinv_pinv}')\n",
    "\n",
    "# Compare the results\n",
    "print(f'\\nCompare the result is {torch.allclose(pseudoinv_svd, pseudoinv_pinv)}') "
   ]
  },
  {
   "attachments": {},
   "cell_type": "markdown",
   "metadata": {},
   "source": [
    "$\\text{4. With the Ap provided below:}$ $$A = \\begin{bmatrix} -1&2 \\\\ 3&-2 \\\\5&7 \\end{bmatrix}$$ \n",
    "$\\text{(a) Use the PyTorch trace method to calculate the trace of Ap}$"
   ]
  },
  {
   "cell_type": "code",
   "execution_count": 20,
   "metadata": {},
   "outputs": [
    {
     "name": "stdout",
     "output_type": "stream",
     "text": [
      "The trace of Ap is 31.0\n"
     ]
    }
   ],
   "source": [
    "# Define matrix A\n",
    "A = torch.tensor([[-1.0, 2.0, 3.0], [-2.0, 5.0, 7.0]])\n",
    "\n",
    "# Define matrix p\n",
    "P = torch.tensor([[25.0, 2.0, -5.0], [3.0, -2.0, 1.0], [5.0, 7.0, 4.0]])\n",
    "\n",
    "# Compute the product Ap\n",
    "Ap = torch.matmul(A, P)\n",
    "\n",
    "# Calculate the trace of Ap using the trace() method\n",
    "trace_Ap = torch.trace(Ap)\n",
    "\n",
    "# Print the result\n",
    "print(f'The trace of Ap is {trace_Ap}') "
   ]
  },
  {
   "attachments": {},
   "cell_type": "markdown",
   "metadata": {},
   "source": [
    "$\\text{(b) Use the PyTorch Frobenius norm method and the race method to demonstrate that ∥A∥F=sqrt(Tr(AAT)).}$"
   ]
  },
  {
   "cell_type": "code",
   "execution_count": 21,
   "metadata": {},
   "outputs": [
    {
     "name": "stdout",
     "output_type": "stream",
     "text": [
      "The Frobenius norm of matrix A is 9.591663360595703\n",
      "\n",
      "The value of Tr(AAT) \n",
      "92.0\n",
      "\n",
      "\n",
      "The sqrt root of Tr(AAT) is 9.591663360595703\n",
      "\n",
      "True\n"
     ]
    }
   ],
   "source": [
    "# Define matrix A\n",
    "A = torch.tensor([[-1.0, 2.0, 3.0], [-2.0, 5.0, 7.0]])\n",
    "\n",
    "# Calculate the Frobenius norm of A using the norm() method\n",
    "frobenius_norm_A = torch.norm(A, p='fro')\n",
    "print(f'The Frobenius norm of matrix A is {frobenius_norm_A}\\n')\n",
    "\n",
    "# Calculate Tr(AAT) using the trace() method\n",
    "trace_AAT = torch.trace(torch.matmul(A, A.t()))\n",
    "print(f'The value of Tr(AAT) \\n{trace_AAT}\\n')\n",
    "\n",
    "# Calculate sqrt(Tr(AAT))\n",
    "sqrt_trace_AAT = torch.sqrt(trace_AAT)\n",
    "print(f'\\nThe sqrt root of Tr(AAT) is {sqrt_trace_AAT}\\n')\n",
    "\n",
    "# Compare the two results\n",
    "print(torch.allclose(frobenius_norm_A, sqrt_trace_AAT))"
   ]
  }
 ],
 "metadata": {
  "kernelspec": {
   "display_name": "Python 3",
   "language": "python",
   "name": "python3"
  },
  "language_info": {
   "codemirror_mode": {
    "name": "ipython",
    "version": 3
   },
   "file_extension": ".py",
   "mimetype": "text/x-python",
   "name": "python",
   "nbconvert_exporter": "python",
   "pygments_lexer": "ipython3",
   "version": "3.10.8"
  },
  "orig_nbformat": 4
 },
 "nbformat": 4,
 "nbformat_minor": 2
}
